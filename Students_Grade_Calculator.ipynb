{
 "cells": [
  {
   "cell_type": "markdown",
   "id": "b659d273",
   "metadata": {},
   "source": [
    "#  An Interactive Student Grade Calculator\n",
    "\n",
    "   ### This is a very interactive student grade calculator that automatically grades your students' result, once the specified  data of each students are inserted, and it is built on the concept of Object Oriented Programming Language. Comments are also added for passing feedback across to students."
   ]
  },
  {
   "cell_type": "code",
   "execution_count": 6,
   "id": "a487aec6",
   "metadata": {},
   "outputs": [
    {
     "name": "stdout",
     "output_type": "stream",
     "text": [
      "C\n"
     ]
    },
    {
     "data": {
      "text/plain": [
       "\"Obi Peters, excellent! Don't ever relent in learning\""
      ]
     },
     "execution_count": 6,
     "metadata": {},
     "output_type": "execute_result"
    }
   ],
   "source": [
    "# A student class was created and a class variable was added to it\n",
    "\n",
    "class  Student:\n",
    "    size = 0\n",
    "    def __init__(self, first_name, last_name, age, score):\n",
    "        self.first_name = first_name\n",
    "        self.last_name = last_name\n",
    "        self.age = age\n",
    "        self.score = score\n",
    "        \n",
    "        Student.size += 1\n",
    "        \n",
    "# This is the score method that calculate scores of students and assigns a grade as well\n",
    "\n",
    "    def scored(self):\n",
    "        \n",
    "        if self.score <= 30:\n",
    "            print('F')\n",
    "        elif self.score <= 40:\n",
    "            print('E')\n",
    "        elif self.score <= 50:\n",
    "            print('D')\n",
    "        elif self.score <= 60:\n",
    "            print('C')\n",
    "        elif self.score <= 70:\n",
    "           print('B')\n",
    "        else:\n",
    "            print('A')\n",
    "        \n",
    "# This is the comment method that returns Teacher\\'s feedback for each students performance\n",
    "\n",
    "    def comment(self):\n",
    "        while True:\n",
    "            if self.score == 'F':\n",
    "                return f'{self.first_name} {self.last_name}, please work on your study habit, dear. You desearve a chance to win too!!'\n",
    "            \n",
    "            elif self.score == 'E':\n",
    "                return f'{self.first_name} {self.last_name}, please improve your study habit for the better, you can do this!'\n",
    "            \n",
    "            elif self.score == 'D':\n",
    "                return f'{self.first_name} {self.last_name}, please continue to improve your study habit for the better'\n",
    "            \n",
    "            elif self.score == 'C':\n",
    "                return f'{self.first_name} {self.last_name}, you have a lot of progress! Aim high! Be better daily!'\n",
    "            \n",
    "            elif self.score == 'B':\n",
    "                return f'{self.first_name} {self.last_name}, you are doing exceptionally well, why don\\'t you aim for the highest'\n",
    "            \n",
    "            else:\n",
    "                self.score == 'A'\n",
    "                return f'{self.first_name} {self.last_name}, excellent! Don\\'t ever relent in learning'\n",
    "                \n",
    "stu1 = Student('Obi','Peters', 21, 59)\n",
    "stu2 = Student('Eze', 'Mark', 18, 1)\n",
    "stu3 = Student('Ify', 'Igwe', 19, 7)\n",
    "\n",
    "stu1.scored()\n",
    "stu1.comment()\n",
    "\n",
    "        \n",
    "        "
   ]
  },
  {
   "cell_type": "markdown",
   "id": "9ce40d14",
   "metadata": {},
   "source": []
  },
  {
   "cell_type": "code",
   "execution_count": null,
   "id": "c0de5589",
   "metadata": {},
   "outputs": [],
   "source": []
  },
  {
   "cell_type": "code",
   "execution_count": null,
   "id": "744e3062",
   "metadata": {},
   "outputs": [],
   "source": []
  },
  {
   "cell_type": "code",
   "execution_count": null,
   "id": "f144da29",
   "metadata": {},
   "outputs": [],
   "source": []
  }
 ],
 "metadata": {
  "kernelspec": {
   "display_name": "Python 3",
   "language": "python",
   "name": "python3"
  },
  "language_info": {
   "codemirror_mode": {
    "name": "ipython",
    "version": 3
   },
   "file_extension": ".py",
   "mimetype": "text/x-python",
   "name": "python",
   "nbconvert_exporter": "python",
   "pygments_lexer": "ipython3",
   "version": "3.8.8"
  }
 },
 "nbformat": 4,
 "nbformat_minor": 5
}
